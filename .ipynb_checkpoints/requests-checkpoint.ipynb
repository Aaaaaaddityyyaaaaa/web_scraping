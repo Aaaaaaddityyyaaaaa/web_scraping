{
 "cells": [
  {
   "cell_type": "code",
   "execution_count": 2,
   "id": "ce205f02-da95-4352-b705-e6ebdb8e7b15",
   "metadata": {},
   "outputs": [
    {
     "name": "stdout",
     "output_type": "stream",
     "text": [
      "Collecting requests\n",
      "  Downloading requests-2.32.5-py3-none-any.whl.metadata (4.9 kB)\n",
      "Collecting charset_normalizer<4,>=2 (from requests)\n",
      "  Downloading charset_normalizer-3.4.3-cp39-cp39-win_amd64.whl.metadata (37 kB)\n",
      "Requirement already satisfied: idna<4,>=2.5 in c:\\programdata\\anaconda3\\envs\\venvds\\lib\\site-packages (from requests) (3.10)\n",
      "Collecting urllib3<3,>=1.21.1 (from requests)\n",
      "  Downloading urllib3-2.5.0-py3-none-any.whl.metadata (6.5 kB)\n",
      "Collecting certifi>=2017.4.17 (from requests)\n",
      "  Downloading certifi-2025.10.5-py3-none-any.whl.metadata (2.5 kB)\n",
      "Downloading requests-2.32.5-py3-none-any.whl (64 kB)\n",
      "Downloading charset_normalizer-3.4.3-cp39-cp39-win_amd64.whl (107 kB)\n",
      "Downloading urllib3-2.5.0-py3-none-any.whl (129 kB)\n",
      "Downloading certifi-2025.10.5-py3-none-any.whl (163 kB)\n",
      "Installing collected packages: urllib3, charset_normalizer, certifi, requests\n",
      "\n",
      "   ---------------------------------------- 0/4 [urllib3]\n",
      "   ---------- ----------------------------- 1/4 [charset_normalizer]\n",
      "   ------------------------------ --------- 3/4 [requests]\n",
      "   ---------------------------------------- 4/4 [requests]\n",
      "\n",
      "Successfully installed certifi-2025.10.5 charset_normalizer-3.4.3 requests-2.32.5 urllib3-2.5.0\n",
      "Note: you may need to restart the kernel to use updated packages.\n"
     ]
    }
   ],
   "source": [
    "pip install requests"
   ]
  },
  {
   "cell_type": "code",
   "execution_count": 3,
   "id": "7afb9ee1-e0aa-4571-a6ed-4521732d37fb",
   "metadata": {},
   "outputs": [],
   "source": [
    "import requests"
   ]
  },
  {
   "cell_type": "code",
   "execution_count": 4,
   "id": "5b4bfdc7-3e52-4450-8479-778ebcda8de7",
   "metadata": {},
   "outputs": [],
   "source": [
    "request = requests.get(\"https://reqres.in/api/users\")"
   ]
  },
  {
   "cell_type": "code",
   "execution_count": 5,
   "id": "912a340d-1559-4007-8d8a-8f753f6d0ef4",
   "metadata": {},
   "outputs": [
    {
     "data": {
      "text/plain": [
       "{'Date': 'Wed, 08 Oct 2025 07:22:59 GMT', 'Content-Type': 'application/json; charset=utf-8', 'Transfer-Encoding': 'chunked', 'Connection': 'keep-alive', 'Access-Control-Allow-Credentials': 'true', 'Access-Control-Allow-Headers': 'Origin, X-Requested-With, Content-Type, Accept, Authorization, x-api-key', 'Access-Control-Allow-Methods': 'GET, POST, PUT, DELETE, OPTIONS', 'Access-Control-Allow-Origin': 'http://localhost:5173', 'Etag': 'W/\"600-DSziLS3KlRfI5T2Av9pzclJLaQk\"', 'Nel': '{\"report_to\":\"heroku-nel\",\"response_headers\":[\"Via\"],\"max_age\":3600,\"success_fraction\":0.01,\"failure_fraction\":0.1}', 'Ratelimit-Limit': '100', 'Ratelimit-Policy': '100;w=60', 'Ratelimit-Remaining': '97', 'Ratelimit-Reset': '273', 'Referrer-Policy': 'strict-origin-when-cross-origin', 'Report-To': '{\"group\":\"heroku-nel\",\"endpoints\":[{\"url\":\"https://nel.heroku.com/reports?s=nuOHk%2FhHDSMTNEyljhV8W1hL7pk4419ItI70FM6IlXs%3D\\\\u0026sid=c4c9725f-1ab0-44d8-820f-430df2718e11\\\\u0026ts=1759903461\"}],\"max_age\":3600}', 'Reporting-Endpoints': 'heroku-nel=\"https://nel.heroku.com/reports?s=nuOHk%2FhHDSMTNEyljhV8W1hL7pk4419ItI70FM6IlXs%3D&sid=c4c9725f-1ab0-44d8-820f-430df2718e11&ts=1759903461\"', 'Server': 'cloudflare', 'Vary': 'Origin, accept-encoding', 'Via': '1.1 heroku-router', 'X-Content-Type-Options': 'nosniff', 'X-Frame-Options': 'DENY', 'X-Powered-By': 'ReqRes.in - Deploy backends in 30 seconds', 'X-Reqres-Docs': 'https://reqres.in', 'X-Reqres-Message': 'This API is powered by ReqRes. Deploy your own backend in 30 seconds!', 'X-Reqres-Templates': 'https://app.reqres.in/templates', 'X-Reqres-Upgrade': 'https://app.reqres.in/upgrade', 'X-Request-Id': '2a63956c-163d-f6fa-bd72-6e28badf2575', 'X-Xss-Protection': '1; mode=block', 'Age': '4717', 'Cache-Control': 'max-age=14400', 'cf-cache-status': 'HIT', 'Content-Encoding': 'gzip', 'CF-RAY': '98b3e3e989e5d84f-DEL'}"
      ]
     },
     "execution_count": 5,
     "metadata": {},
     "output_type": "execute_result"
    }
   ],
   "source": [
    "request.headers"
   ]
  },
  {
   "cell_type": "code",
   "execution_count": 6,
   "id": "5c29f7c8-d891-4933-81b5-4984534a4ad1",
   "metadata": {},
   "outputs": [
    {
     "data": {
      "text/plain": [
       "{'page': 1,\n",
       " 'per_page': 6,\n",
       " 'total': 12,\n",
       " 'total_pages': 2,\n",
       " 'data': [{'id': 1,\n",
       "   'email': 'george.bluth@reqres.in',\n",
       "   'first_name': 'George',\n",
       "   'last_name': 'Bluth',\n",
       "   'avatar': 'https://reqres.in/img/faces/1-image.jpg'},\n",
       "  {'id': 2,\n",
       "   'email': 'janet.weaver@reqres.in',\n",
       "   'first_name': 'Janet',\n",
       "   'last_name': 'Weaver',\n",
       "   'avatar': 'https://reqres.in/img/faces/2-image.jpg'},\n",
       "  {'id': 3,\n",
       "   'email': 'emma.wong@reqres.in',\n",
       "   'first_name': 'Emma',\n",
       "   'last_name': 'Wong',\n",
       "   'avatar': 'https://reqres.in/img/faces/3-image.jpg'},\n",
       "  {'id': 4,\n",
       "   'email': 'eve.holt@reqres.in',\n",
       "   'first_name': 'Eve',\n",
       "   'last_name': 'Holt',\n",
       "   'avatar': 'https://reqres.in/img/faces/4-image.jpg'},\n",
       "  {'id': 5,\n",
       "   'email': 'charles.morris@reqres.in',\n",
       "   'first_name': 'Charles',\n",
       "   'last_name': 'Morris',\n",
       "   'avatar': 'https://reqres.in/img/faces/5-image.jpg'},\n",
       "  {'id': 6,\n",
       "   'email': 'tracey.ramos@reqres.in',\n",
       "   'first_name': 'Tracey',\n",
       "   'last_name': 'Ramos',\n",
       "   'avatar': 'https://reqres.in/img/faces/6-image.jpg'}],\n",
       " 'support': {'url': 'https://contentcaddy.io?utm_source=reqres&utm_medium=json&utm_campaign=referral',\n",
       "  'text': 'Tired of writing endless social media content? Let Content Caddy generate it for you.'},\n",
       " '_meta': {'powered_by': '🚀 ReqRes - Deploy backends in 30 seconds',\n",
       "  'upgrade_url': 'https://app.reqres.in/upgrade',\n",
       "  'docs_url': 'https://reqres.in',\n",
       "  'template_gallery': 'https://app.reqres.in/templates',\n",
       "  'message': 'This API is powered by ReqRes. Deploy your own backend in 30 seconds!',\n",
       "  'features': ['30 Second Backend Templates',\n",
       "   'Custom API Endpoints',\n",
       "   'Data Persistence',\n",
       "   'Real-time Analytics'],\n",
       "  'upgrade_cta': 'Upgrade to Pro for unlimited requests, custom endpoints, and data persistence'}}"
      ]
     },
     "execution_count": 6,
     "metadata": {},
     "output_type": "execute_result"
    }
   ],
   "source": [
    "request.json()"
   ]
  },
  {
   "cell_type": "code",
   "execution_count": 7,
   "id": "9fbca073-9cda-458e-8553-64c0a40ea6b4",
   "metadata": {},
   "outputs": [
    {
     "data": {
      "text/plain": [
       "<Response [401]>"
      ]
     },
     "execution_count": 7,
     "metadata": {},
     "output_type": "execute_result"
    }
   ],
   "source": [
    "requests.post(\"https://reqres.in/api/users\" , json={'id': 7,\n",
    "   'email': 'aditya.morris@reqres.in',\n",
    "   'first_name': 'Aditya',\n",
    "   'last_name': 'Morris',\n",
    "   'avatar': 'https://reqres.in/img/faces/5-image.jpg'})"
   ]
  },
  {
   "cell_type": "code",
   "execution_count": null,
   "id": "2e17699f-433a-422e-a0b2-f114812765ce",
   "metadata": {},
   "outputs": [],
   "source": []
  }
 ],
 "metadata": {
  "kernelspec": {
   "display_name": "DSKernel",
   "language": "python",
   "name": "venvds"
  },
  "language_info": {
   "codemirror_mode": {
    "name": "ipython",
    "version": 3
   },
   "file_extension": ".py",
   "mimetype": "text/x-python",
   "name": "python",
   "nbconvert_exporter": "python",
   "pygments_lexer": "ipython3",
   "version": "3.9.23"
  }
 },
 "nbformat": 4,
 "nbformat_minor": 5
}
