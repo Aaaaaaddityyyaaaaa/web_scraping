{
 "cells": [
  {
   "cell_type": "code",
   "execution_count": 23,
   "id": "3cf5fcbb-43db-4578-b957-7f18c8d5a56e",
   "metadata": {},
   "outputs": [
    {
     "name": "stdout",
     "output_type": "stream",
     "text": [
      "The sql extension is already loaded. To reload it, use:\n",
      "  %reload_ext sql\n"
     ]
    }
   ],
   "source": [
    "import pandas as pd\n",
    "import numpy as np\n",
    "import sqlite3 \n",
    "%load_ext sql"
   ]
  },
  {
   "cell_type": "code",
   "execution_count": 25,
   "id": "ca56ad7c-a3bc-4a8e-ba66-0a00345ab018",
   "metadata": {},
   "outputs": [],
   "source": [
    "con = sqlite3.connect(\"Mcdonalds.db\")"
   ]
  },
  {
   "cell_type": "code",
   "execution_count": 27,
   "id": "a5dab17d-c102-4aed-a07c-a6e4b10b3dfd",
   "metadata": {},
   "outputs": [],
   "source": [
    "%sql sqlite:///Mcdonalds.db"
   ]
  },
  {
   "cell_type": "code",
   "execution_count": 28,
   "id": "a9158c92-ff7f-4642-af58-ced9b410e56f",
   "metadata": {},
   "outputs": [],
   "source": [
    "data = pd.read_csv(\"mcdonaldata.csv\")"
   ]
  },
  {
   "cell_type": "code",
   "execution_count": 29,
   "id": "2a77bc6a-aa18-46b6-8fd3-1446de7c4df6",
   "metadata": {},
   "outputs": [
    {
     "data": {
      "text/plain": [
       "141"
      ]
     },
     "execution_count": 29,
     "metadata": {},
     "output_type": "execute_result"
    }
   ],
   "source": [
    "data.to_sql(\"Mcdonalds_nut\" , con)"
   ]
  },
  {
   "cell_type": "code",
   "execution_count": 31,
   "id": "95c07bb7-e0e0-4a2d-811e-952f004f7f7a",
   "metadata": {},
   "outputs": [],
   "source": [
    "con.commit()"
   ]
  },
  {
   "cell_type": "code",
   "execution_count": 33,
   "id": "91e508e8-f7a3-4214-9e65-73854ac7ebff",
   "metadata": {},
   "outputs": [
    {
     "name": "stdout",
     "output_type": "stream",
     "text": [
      "   sqlite:///Instructor.db\n",
      " * sqlite:///Mcdonalds.db\n",
      "Done.\n"
     ]
    },
    {
     "data": {
      "text/html": [
       "<table>\n",
       "    <thead>\n",
       "        <tr>\n",
       "            <th>index</th>\n",
       "            <th>Unnamed: 0</th>\n",
       "            <th>item</th>\n",
       "            <th>servesize</th>\n",
       "            <th>calories</th>\n",
       "            <th>protien</th>\n",
       "            <th>totalfat</th>\n",
       "            <th>satfat</th>\n",
       "            <th>transfat</th>\n",
       "            <th>cholestrol</th>\n",
       "            <th>carbs</th>\n",
       "            <th>sugar</th>\n",
       "            <th>addedsugar</th>\n",
       "            <th>sodium</th>\n",
       "            <th>menu</th>\n",
       "        </tr>\n",
       "    </thead>\n",
       "    <tbody>\n",
       "        <tr>\n",
       "            <td>0</td>\n",
       "            <td>0</td>\n",
       "            <td>McVeggie Burger</td>\n",
       "            <td>168 </td>\n",
       "            <td>402</td>\n",
       "            <td>10.24</td>\n",
       "            <td>13.83</td>\n",
       "            <td>5.34</td>\n",
       "            <td>0.16</td>\n",
       "            <td>2.49</td>\n",
       "            <td>56.54</td>\n",
       "            <td>7.9</td>\n",
       "            <td>4.49</td>\n",
       "            <td>706.13</td>\n",
       "            <td>regular</td>\n",
       "        </tr>\n",
       "    </tbody>\n",
       "</table>"
      ],
      "text/plain": [
       "[(0, 0, 'McVeggie Burger', '168\\xa0', '402', 10.24, 13.83, 5.34, 0.16, 2.49, 56.54, 7.9, 4.49, 706.13, 'regular')]"
      ]
     },
     "execution_count": 33,
     "metadata": {},
     "output_type": "execute_result"
    }
   ],
   "source": [
    "%%sql \n",
    "select *  from Mcdonalds_nut limit 1"
   ]
  },
  {
   "cell_type": "code",
   "execution_count": 39,
   "id": "ba5b8fac-28de-4e6c-8c51-4ddf9c060ba2",
   "metadata": {},
   "outputs": [],
   "source": [
    "from matplotlib import pyplot as plt\n",
    "%matplotlib inline"
   ]
  },
  {
   "cell_type": "code",
   "execution_count": 41,
   "id": "359f0051-f8f7-4194-98be-8167bcf1895d",
   "metadata": {},
   "outputs": [
    {
     "name": "stdout",
     "output_type": "stream",
     "text": [
      "<class 'pandas.core.frame.DataFrame'>\n",
      "RangeIndex: 141 entries, 0 to 140\n",
      "Data columns (total 14 columns):\n",
      " #   Column      Non-Null Count  Dtype  \n",
      "---  ------      --------------  -----  \n",
      " 0   Unnamed: 0  141 non-null    int64  \n",
      " 1   item        141 non-null    object \n",
      " 2   servesize   141 non-null    object \n",
      " 3   calories    141 non-null    object \n",
      " 4   protien     141 non-null    float64\n",
      " 5   totalfat    141 non-null    float64\n",
      " 6   satfat      141 non-null    float64\n",
      " 7   transfat    141 non-null    float64\n",
      " 8   cholestrol  141 non-null    float64\n",
      " 9   carbs       141 non-null    float64\n",
      " 10  sugar       141 non-null    float64\n",
      " 11  addedsugar  141 non-null    float64\n",
      " 12  sodium      141 non-null    float64\n",
      " 13  menu        141 non-null    object \n",
      "dtypes: float64(9), int64(1), object(4)\n",
      "memory usage: 15.5+ KB\n"
     ]
    }
   ],
   "source": [
    "data.info()"
   ]
  },
  {
   "cell_type": "code",
   "execution_count": 43,
   "id": "9e92556b-7de3-44aa-86cb-5799168ef956",
   "metadata": {},
   "outputs": [
    {
     "data": {
      "image/png": "[encoded data removed]",
      "text/plain": [
       "<Figure size 640x480 with 1 Axes>"
      ]
     },
     "metadata": {},
     "output_type": "display_data"
    }
   ],
   "source": [
    "plt.scatter(x=data[\"sugar\"] , y=data[\"transfat\"])\n",
    "plt.xlabel('sugar')\n",
    "plt.ylabel('transfat')\n",
    "plt.show()"
   ]
  },
  {
   "cell_type": "code",
   "execution_count": 44,
   "id": "0fc3e16f-9b9e-4491-8e4c-f37916d5f79f",
   "metadata": {},
   "outputs": [
    {
     "name": "stdout",
     "output_type": "stream",
     "text": [
      "Collecting seaborn\n",
      "  Downloading seaborn-0.13.2-py3-none-any.whl.metadata (5.4 kB)\n",
      "Requirement already satisfied: numpy!=1.24.0,>=1.20 in c:\\programdata\\anaconda3\\envs\\venvds\\lib\\site-packages (from seaborn) (2.0.2)\n",
      "Requirement already satisfied: pandas>=1.2 in c:\\programdata\\anaconda3\\envs\\venvds\\lib\\site-packages (from seaborn) (2.3.2)\n",
      "Requirement already satisfied: matplotlib!=3.6.1,>=3.4 in c:\\programdata\\anaconda3\\envs\\venvds\\lib\\site-packages (from seaborn) (3.9.4)\n",
      "Requirement already satisfied: contourpy>=1.0.1 in c:\\programdata\\anaconda3\\envs\\venvds\\lib\\site-packages (from matplotlib!=3.6.1,>=3.4->seaborn) (1.3.0)\n",
      "Requirement already satisfied: cycler>=0.10 in c:\\programdata\\anaconda3\\envs\\venvds\\lib\\site-packages (from matplotlib!=3.6.1,>=3.4->seaborn) (0.12.1)\n",
      "Requirement already satisfied: fonttools>=4.22.0 in c:\\programdata\\anaconda3\\envs\\venvds\\lib\\site-packages (from matplotlib!=3.6.1,>=3.4->seaborn) (4.60.0)\n",
      "Requirement already satisfied: kiwisolver>=1.3.1 in c:\\programdata\\anaconda3\\envs\\venvds\\lib\\site-packages (from matplotlib!=3.6.1,>=3.4->seaborn) (1.4.7)\n",
      "Requirement already satisfied: packaging>=20.0 in c:\\programdata\\anaconda3\\envs\\venvds\\lib\\site-packages (from matplotlib!=3.6.1,>=3.4->seaborn) (25.0)\n",
      "Requirement already satisfied: pillow>=8 in c:\\programdata\\anaconda3\\envs\\venvds\\lib\\site-packages (from matplotlib!=3.6.1,>=3.4->seaborn) (11.3.0)\n",
      "Requirement already satisfied: pyparsing>=2.3.1 in c:\\programdata\\anaconda3\\envs\\venvds\\lib\\site-packages (from matplotlib!=3.6.1,>=3.4->seaborn) (3.2.5)\n",
      "Requirement already satisfied: python-dateutil>=2.7 in c:\\programdata\\anaconda3\\envs\\venvds\\lib\\site-packages (from matplotlib!=3.6.1,>=3.4->seaborn) (2.9.0.post0)\n",
      "Requirement already satisfied: importlib-resources>=3.2.0 in c:\\programdata\\anaconda3\\envs\\venvds\\lib\\site-packages (from matplotlib!=3.6.1,>=3.4->seaborn) (6.5.2)\n",
      "Requirement already satisfied: zipp>=3.1.0 in c:\\programdata\\anaconda3\\envs\\venvds\\lib\\site-packages (from importlib-resources>=3.2.0->matplotlib!=3.6.1,>=3.4->seaborn) (3.23.0)\n",
      "Requirement already satisfied: pytz>=2020.1 in c:\\programdata\\anaconda3\\envs\\venvds\\lib\\site-packages (from pandas>=1.2->seaborn) (2025.2)\n",
      "Requirement already satisfied: tzdata>=2022.7 in c:\\programdata\\anaconda3\\envs\\venvds\\lib\\site-packages (from pandas>=1.2->seaborn) (2025.2)\n",
      "Requirement already satisfied: six>=1.5 in c:\\programdata\\anaconda3\\envs\\venvds\\lib\\site-packages (from python-dateutil>=2.7->matplotlib!=3.6.1,>=3.4->seaborn) (1.17.0)\n",
      "Downloading seaborn-0.13.2-py3-none-any.whl (294 kB)\n",
      "Installing collected packages: seaborn\n",
      "Successfully installed seaborn-0.13.2\n",
      "Note: you may need to restart the kernel to use updated packages.\n"
     ]
    }
   ],
   "source": [
    "pip install seaborn"
   ]
  },
  {
   "cell_type": "code",
   "execution_count": 52,
   "id": "44666c91-7b8b-4b2d-8555-0147db2ebdc8",
   "metadata": {},
   "outputs": [
    {
     "data": {
      "text/plain": [
       "array([  0,   1,   2,   3,   4,   5,   6,   7,   8,   9,  10,  11,  12,\n",
       "        13,  14,  15,  16,  17,  18,  19,  20,  21,  22,  23,  24,  25,\n",
       "        26,  27,  28,  29,  30,  31,  32,  33,  34,  35,  36,  37,  38,\n",
       "        39,  40,  41,  42,  43,  44,  45,  46,  47,  48,  49,  50,  51,\n",
       "        52,  53,  54,  55,  56,  57,  58,  59,  60,  61,  62,  63,  64,\n",
       "        65,  66,  67,  68,  69,  70,  71,  72,  73,  74,  75,  76,  77,\n",
       "        78,  79,  80,  81,  82,  83,  84,  85,  86,  87,  88,  89,  90,\n",
       "        91,  92,  93,  94,  95,  96,  97,  98,  99, 100, 101, 102, 103,\n",
       "       104, 105, 106, 107, 108, 109, 110, 111, 112, 113, 114, 115, 116,\n",
       "       117, 118, 119, 120, 121, 122, 123, 124, 125, 126, 127, 128, 129,\n",
       "       130, 131, 132, 133, 134, 135, 136, 137, 138, 139, 140])"
      ]
     },
     "execution_count": 52,
     "metadata": {},
     "output_type": "execute_result"
    }
   ],
   "source": [
    "data[\"Unnamed: 0\"].unique()"
   ]
  }
 ],
 "metadata": {
  "kernelspec": {
   "display_name": "DSKernel",
   "language": "python",
   "name": "venvds"
  },
  "language_info": {
   "codemirror_mode": {
    "name": "ipython",
    "version": 3
   },
   "file_extension": ".py",
   "mimetype": "text/x-python",
   "name": "python",
   "nbconvert_exporter": "python",
   "pygments_lexer": "ipython3",
   "version": "3.9.23"
  }
 },
 "nbformat": 4,
 "nbformat_minor": 5
}
